{
 "cells": [
  {
   "cell_type": "markdown",
   "id": "a7e618ae",
   "metadata": {},
   "source": [
    "# Regression (40 points)."
   ]
  },
  {
   "cell_type": "markdown",
   "id": "ab915c7c",
   "metadata": {},
   "source": [
    "**Train a Regression model in which: the independent variables (inputs) are\n",
    "“ASR_Error,” “IntentError,” “Duration,” “Gender,” and “Purchase”; the dependent\n",
    "variable (output) is “SUS., and anwer the following questions:**"
   ]
  },
  {
   "cell_type": "code",
   "execution_count": 1,
   "id": "20215579",
   "metadata": {},
   "outputs": [
    {
     "name": "stdout",
     "output_type": "stream",
     "text": [
      "Requirement already satisfied: seaborn in c:\\python311\\lib\\site-packages (0.12.2)\n",
      "Requirement already satisfied: numpy!=1.24.0,>=1.17 in c:\\python311\\lib\\site-packages (from seaborn) (1.23.4)\n",
      "Requirement already satisfied: pandas>=0.25 in c:\\python311\\lib\\site-packages (from seaborn) (1.5.1)\n",
      "Requirement already satisfied: matplotlib!=3.6.1,>=3.1 in c:\\python311\\lib\\site-packages (from seaborn) (3.6.3)\n",
      "Requirement already satisfied: contourpy>=1.0.1 in c:\\python311\\lib\\site-packages (from matplotlib!=3.6.1,>=3.1->seaborn) (1.0.7)\n",
      "Requirement already satisfied: cycler>=0.10 in c:\\python311\\lib\\site-packages (from matplotlib!=3.6.1,>=3.1->seaborn) (0.11.0)\n",
      "Requirement already satisfied: fonttools>=4.22.0 in c:\\python311\\lib\\site-packages (from matplotlib!=3.6.1,>=3.1->seaborn) (4.38.0)\n",
      "Requirement already satisfied: kiwisolver>=1.0.1 in c:\\python311\\lib\\site-packages (from matplotlib!=3.6.1,>=3.1->seaborn) (1.4.4)\n",
      "Requirement already satisfied: packaging>=20.0 in c:\\python311\\lib\\site-packages (from matplotlib!=3.6.1,>=3.1->seaborn) (21.3)\n",
      "Requirement already satisfied: pillow>=6.2.0 in c:\\python311\\lib\\site-packages (from matplotlib!=3.6.1,>=3.1->seaborn) (9.4.0)\n",
      "Requirement already satisfied: pyparsing>=2.2.1 in c:\\python311\\lib\\site-packages (from matplotlib!=3.6.1,>=3.1->seaborn) (3.0.9)\n",
      "Requirement already satisfied: python-dateutil>=2.7 in c:\\python311\\lib\\site-packages (from matplotlib!=3.6.1,>=3.1->seaborn) (2.8.2)\n",
      "Requirement already satisfied: pytz>=2020.1 in c:\\python311\\lib\\site-packages (from pandas>=0.25->seaborn) (2022.6)\n",
      "Requirement already satisfied: six>=1.5 in c:\\python311\\lib\\site-packages (from python-dateutil>=2.7->matplotlib!=3.6.1,>=3.1->seaborn) (1.16.0)\n"
     ]
    },
    {
     "name": "stderr",
     "output_type": "stream",
     "text": [
      "\n",
      "[notice] A new release of pip available: 22.3 -> 23.0\n",
      "[notice] To update, run: python.exe -m pip install --upgrade pip\n"
     ]
    }
   ],
   "source": [
    "!pip install seaborn"
   ]
  },
  {
   "cell_type": "markdown",
   "id": "7597515c",
   "metadata": {},
   "source": [
    "# Import Python Lib"
   ]
  },
  {
   "cell_type": "code",
   "execution_count": 2,
   "id": "064780ce",
   "metadata": {},
   "outputs": [],
   "source": [
    "import numpy as np \n",
    "import pandas as pd \n",
    "import matplotlib.pyplot as plt\n",
    "import seaborn as sns"
   ]
  },
  {
   "cell_type": "markdown",
   "id": "f96840ba",
   "metadata": {},
   "source": [
    "# Read Data"
   ]
  },
  {
   "cell_type": "code",
   "execution_count": 3,
   "id": "56378775",
   "metadata": {},
   "outputs": [
    {
     "data": {
      "text/html": [
       "<div>\n",
       "<style scoped>\n",
       "    .dataframe tbody tr th:only-of-type {\n",
       "        vertical-align: middle;\n",
       "    }\n",
       "\n",
       "    .dataframe tbody tr th {\n",
       "        vertical-align: top;\n",
       "    }\n",
       "\n",
       "    .dataframe thead th {\n",
       "        text-align: right;\n",
       "    }\n",
       "</style>\n",
       "<table border=\"1\" class=\"dataframe\">\n",
       "  <thead>\n",
       "    <tr style=\"text-align: right;\">\n",
       "      <th></th>\n",
       "      <th>Purchase</th>\n",
       "      <th>SUS</th>\n",
       "      <th>Duration</th>\n",
       "      <th>Gender</th>\n",
       "      <th>ASR_Error</th>\n",
       "      <th>Intent_Error</th>\n",
       "      <th>Unnamed: 6</th>\n",
       "    </tr>\n",
       "  </thead>\n",
       "  <tbody>\n",
       "    <tr>\n",
       "      <th>0</th>\n",
       "      <td>1</td>\n",
       "      <td>84</td>\n",
       "      <td>254</td>\n",
       "      <td>0</td>\n",
       "      <td>3</td>\n",
       "      <td>2</td>\n",
       "      <td>0.0</td>\n",
       "    </tr>\n",
       "    <tr>\n",
       "      <th>1</th>\n",
       "      <td>0</td>\n",
       "      <td>58</td>\n",
       "      <td>247</td>\n",
       "      <td>0</td>\n",
       "      <td>6</td>\n",
       "      <td>9</td>\n",
       "      <td>0.0</td>\n",
       "    </tr>\n",
       "    <tr>\n",
       "      <th>2</th>\n",
       "      <td>0</td>\n",
       "      <td>56</td>\n",
       "      <td>125</td>\n",
       "      <td>1</td>\n",
       "      <td>6</td>\n",
       "      <td>8</td>\n",
       "      <td>0.0</td>\n",
       "    </tr>\n",
       "    <tr>\n",
       "      <th>3</th>\n",
       "      <td>0</td>\n",
       "      <td>55</td>\n",
       "      <td>22</td>\n",
       "      <td>0</td>\n",
       "      <td>11</td>\n",
       "      <td>7</td>\n",
       "      <td>0.0</td>\n",
       "    </tr>\n",
       "    <tr>\n",
       "      <th>4</th>\n",
       "      <td>1</td>\n",
       "      <td>95</td>\n",
       "      <td>262</td>\n",
       "      <td>0</td>\n",
       "      <td>2</td>\n",
       "      <td>3</td>\n",
       "      <td>0.0</td>\n",
       "    </tr>\n",
       "    <tr>\n",
       "      <th>5</th>\n",
       "      <td>0</td>\n",
       "      <td>71</td>\n",
       "      <td>113</td>\n",
       "      <td>1</td>\n",
       "      <td>8</td>\n",
       "      <td>9</td>\n",
       "      <td>0.0</td>\n",
       "    </tr>\n",
       "    <tr>\n",
       "      <th>6</th>\n",
       "      <td>0</td>\n",
       "      <td>76</td>\n",
       "      <td>91</td>\n",
       "      <td>1</td>\n",
       "      <td>6</td>\n",
       "      <td>3</td>\n",
       "      <td>0.0</td>\n",
       "    </tr>\n",
       "    <tr>\n",
       "      <th>7</th>\n",
       "      <td>0</td>\n",
       "      <td>64</td>\n",
       "      <td>46</td>\n",
       "      <td>0</td>\n",
       "      <td>6</td>\n",
       "      <td>11</td>\n",
       "      <td>0.0</td>\n",
       "    </tr>\n",
       "    <tr>\n",
       "      <th>8</th>\n",
       "      <td>0</td>\n",
       "      <td>56</td>\n",
       "      <td>132</td>\n",
       "      <td>0</td>\n",
       "      <td>9</td>\n",
       "      <td>9</td>\n",
       "      <td>0.0</td>\n",
       "    </tr>\n",
       "    <tr>\n",
       "      <th>9</th>\n",
       "      <td>0</td>\n",
       "      <td>96</td>\n",
       "      <td>190</td>\n",
       "      <td>0</td>\n",
       "      <td>11</td>\n",
       "      <td>4</td>\n",
       "      <td>0.0</td>\n",
       "    </tr>\n",
       "  </tbody>\n",
       "</table>\n",
       "</div>"
      ],
      "text/plain": [
       "   Purchase  SUS  Duration  Gender  ASR_Error  Intent_Error  Unnamed: 6\n",
       "0         1   84       254       0          3             2         0.0\n",
       "1         0   58       247       0          6             9         0.0\n",
       "2         0   56       125       1          6             8         0.0\n",
       "3         0   55        22       0         11             7         0.0\n",
       "4         1   95       262       0          2             3         0.0\n",
       "5         0   71       113       1          8             9         0.0\n",
       "6         0   76        91       1          6             3         0.0\n",
       "7         0   64        46       0          6            11         0.0\n",
       "8         0   56       132       0          9             9         0.0\n",
       "9         0   96       190       0         11             4         0.0"
      ]
     },
     "execution_count": 3,
     "metadata": {},
     "output_type": "execute_result"
    }
   ],
   "source": [
    "df = pd.read_csv('data.csv')\n",
    "df = df.fillna(0)\n",
    "df.head(10)"
   ]
  },
  {
   "cell_type": "code",
   "execution_count": 4,
   "id": "c06faa67",
   "metadata": {},
   "outputs": [
    {
     "data": {
      "text/plain": [
       "Purchase        0\n",
       "SUS             0\n",
       "Duration        0\n",
       "Gender          0\n",
       "ASR_Error       0\n",
       "Intent_Error    0\n",
       "Unnamed: 6      0\n",
       "dtype: int64"
      ]
     },
     "execution_count": 4,
     "metadata": {},
     "output_type": "execute_result"
    }
   ],
   "source": [
    "df.isna().sum()"
   ]
  },
  {
   "cell_type": "markdown",
   "id": "0b350321",
   "metadata": {},
   "source": [
    "# Five of our variables, Purchase, Duration, Gender, ASR_Error, and Intent_Error, are categorical; we need to encode them so that our regression models can take their values as input"
   ]
  },
  {
   "cell_type": "code",
   "execution_count": 5,
   "id": "3722b1f0",
   "metadata": {},
   "outputs": [
    {
     "name": "stdout",
     "output_type": "stream",
     "text": [
      "Requirement already satisfied: scikit-learn in c:\\python311\\lib\\site-packages (1.2.1)\n",
      "Requirement already satisfied: numpy>=1.17.3 in c:\\python311\\lib\\site-packages (from scikit-learn) (1.23.4)\n",
      "Requirement already satisfied: scipy>=1.3.2 in c:\\python311\\lib\\site-packages (from scikit-learn) (1.10.0)\n",
      "Requirement already satisfied: joblib>=1.1.1 in c:\\python311\\lib\\site-packages (from scikit-learn) (1.2.0)\n",
      "Requirement already satisfied: threadpoolctl>=2.0.0 in c:\\python311\\lib\\site-packages (from scikit-learn) (3.1.0)\n"
     ]
    },
    {
     "name": "stderr",
     "output_type": "stream",
     "text": [
      "\n",
      "[notice] A new release of pip available: 22.3 -> 23.0\n",
      "[notice] To update, run: python.exe -m pip install --upgrade pip\n"
     ]
    }
   ],
   "source": [
    "! pip install -U scikit-learn"
   ]
  },
  {
   "cell_type": "code",
   "execution_count": 6,
   "id": "99ff14d6",
   "metadata": {},
   "outputs": [],
   "source": [
    "from sklearn.preprocessing import LabelEncoder"
   ]
  },
  {
   "cell_type": "code",
   "execution_count": 7,
   "id": "9c3238bc",
   "metadata": {},
   "outputs": [],
   "source": [
    "le = LabelEncoder()\n",
    "\n",
    "le.fit(df['Purchase'])\n",
    "df['Purchase'] = le.transform(df['Purchase'])\n",
    "\n",
    "le.fit(df['Gender'])\n",
    "df['Gender'] = le.transform(df['Gender'])\n",
    "\n",
    "le.fit(df['Duration'])\n",
    "df['Duration'] = le.transform(df['Duration'])\n",
    "\n",
    "le.fit(df['ASR_Error'])\n",
    "df['ASR_Error'] = le.transform(df['ASR_Error'])\n",
    "\n",
    "le.fit(df['Intent_Error'])\n",
    "df['Intent_Error'] = le.transform(df['Intent_Error'])\n",
    "\n",
    "df.head(10);"
   ]
  },
  {
   "cell_type": "markdown",
   "id": "bf4500e5",
   "metadata": {},
   "source": [
    "# Let's start with regression analysis"
   ]
  },
  {
   "cell_type": "code",
   "execution_count": 35,
   "id": "2ad941eb",
   "metadata": {},
   "outputs": [
    {
     "name": "stdout",
     "output_type": "stream",
     "text": [
      "Collecting statsmodels\n",
      "  Downloading statsmodels-0.13.5-cp311-cp311-win_amd64.whl (9.0 MB)\n",
      "     ---------------------------------------- 9.0/9.0 MB 13.7 MB/s eta 0:00:00\n",
      "Requirement already satisfied: pandas>=0.25 in c:\\python311\\lib\\site-packages (from statsmodels) (1.5.1)\n",
      "Collecting patsy>=0.5.2\n",
      "  Downloading patsy-0.5.3-py2.py3-none-any.whl (233 kB)\n",
      "     ------------------------------------- 233.8/233.8 kB 14.0 MB/s eta 0:00:00\n",
      "Requirement already satisfied: packaging>=21.3 in c:\\python311\\lib\\site-packages (from statsmodels) (21.3)\n",
      "Requirement already satisfied: scipy>=1.3 in c:\\python311\\lib\\site-packages (from statsmodels) (1.10.0)\n",
      "Requirement already satisfied: numpy>=1.17 in c:\\python311\\lib\\site-packages (from statsmodels) (1.23.4)\n",
      "Requirement already satisfied: pyparsing!=3.0.5,>=2.0.2 in c:\\python311\\lib\\site-packages (from packaging>=21.3->statsmodels) (3.0.9)\n",
      "Requirement already satisfied: python-dateutil>=2.8.1 in c:\\python311\\lib\\site-packages (from pandas>=0.25->statsmodels) (2.8.2)\n",
      "Requirement already satisfied: pytz>=2020.1 in c:\\python311\\lib\\site-packages (from pandas>=0.25->statsmodels) (2022.6)\n",
      "Requirement already satisfied: six in c:\\python311\\lib\\site-packages (from patsy>=0.5.2->statsmodels) (1.16.0)\n",
      "Installing collected packages: patsy, statsmodels\n",
      "Successfully installed patsy-0.5.3 statsmodels-0.13.5\n"
     ]
    },
    {
     "name": "stderr",
     "output_type": "stream",
     "text": [
      "\n",
      "[notice] A new release of pip available: 22.3 -> 23.0\n",
      "[notice] To update, run: python.exe -m pip install --upgrade pip\n"
     ]
    }
   ],
   "source": [
    "!pip install statsmodels"
   ]
  },
  {
   "cell_type": "code",
   "execution_count": 36,
   "id": "024636b9",
   "metadata": {},
   "outputs": [],
   "source": [
    "import statsmodels.api as sm\n",
    "\n",
    "y = df['SUS'] # dependent variable\n",
    "x = df.drop(columns='SUS') # predictor variables"
   ]
  },
  {
   "cell_type": "code",
   "execution_count": 37,
   "id": "4fb21f87",
   "metadata": {},
   "outputs": [
    {
     "name": "stdout",
     "output_type": "stream",
     "text": [
      "                            OLS Regression Results                            \n",
      "==============================================================================\n",
      "Dep. Variable:                    SUS   R-squared:                       0.593\n",
      "Model:                            OLS   Adj. R-squared:                  0.571\n",
      "Method:                 Least Squares   F-statistic:                     27.40\n",
      "Date:                Tue, 14 Feb 2023   Prob (F-statistic):           5.22e-17\n",
      "Time:                        17:09:15   Log-Likelihood:                -362.39\n",
      "No. Observations:                 100   AIC:                             736.8\n",
      "Df Residuals:                      94   BIC:                             752.4\n",
      "Df Model:                           5                                         \n",
      "Covariance Type:            nonrobust                                         \n",
      "================================================================================\n",
      "                   coef    std err          t      P>|t|      [0.025      0.975]\n",
      "--------------------------------------------------------------------------------\n",
      "const           92.8514      5.526     16.802      0.000      81.879     103.824\n",
      "Purchase         1.3087      3.682      0.355      0.723      -6.002       8.620\n",
      "Duration         0.0040      0.037      0.107      0.915      -0.070       0.078\n",
      "Gender           0.8586      1.969      0.436      0.664      -3.051       4.768\n",
      "ASR_Error       -1.4277      0.401     -3.560      0.001      -2.224      -0.631\n",
      "Intent_Error    -2.0107      0.440     -4.573      0.000      -2.884      -1.138\n",
      "Unnamed: 6            0          0        nan        nan           0           0\n",
      "==============================================================================\n",
      "Omnibus:                        6.841   Durbin-Watson:                   2.027\n",
      "Prob(Omnibus):                  0.033   Jarque-Bera (JB):                7.844\n",
      "Skew:                          -0.378   Prob(JB):                       0.0198\n",
      "Kurtosis:                       4.146   Cond. No.                          inf\n",
      "==============================================================================\n",
      "\n",
      "Notes:\n",
      "[1] Standard Errors assume that the covariance matrix of the errors is correctly specified.\n",
      "[2] The smallest eigenvalue is      0. This might indicate that there are\n",
      "strong multicollinearity problems or that the design matrix is singular.\n"
     ]
    },
    {
     "name": "stderr",
     "output_type": "stream",
     "text": [
      "C:\\Python311\\Lib\\site-packages\\statsmodels\\regression\\linear_model.py:1934: RuntimeWarning: divide by zero encountered in double_scalars\n",
      "  return np.sqrt(eigvals[0]/eigvals[-1])\n"
     ]
    }
   ],
   "source": [
    "#add constant to predictor variables\n",
    "x = sm.add_constant(x)\n",
    "\n",
    "model = sm.OLS(y, x).fit()\n",
    "print(model.summary());"
   ]
  },
  {
   "cell_type": "code",
   "execution_count": 38,
   "id": "df728ee6",
   "metadata": {},
   "outputs": [],
   "source": [
    "from sklearn.linear_model import LinearRegression\n",
    "from sklearn.model_selection import train_test_split\n",
    "from sklearn.preprocessing import PolynomialFeatures\n",
    "from sklearn.metrics import r2_score,mean_squared_error"
   ]
  },
  {
   "cell_type": "code",
   "execution_count": 39,
   "id": "4e66c313",
   "metadata": {},
   "outputs": [],
   "source": [
    "x = df.drop(columns='SUS')\n",
    "y = df['SUS']\n",
    "\n",
    "x_train, x_test, y_train, y_test = train_test_split(x, y)"
   ]
  },
  {
   "cell_type": "code",
   "execution_count": 41,
   "id": "0351110d",
   "metadata": {},
   "outputs": [
    {
     "name": "stdout",
     "output_type": "stream",
     "text": [
      "The R square score of linear regression model is:  0.6174625725418394\n"
     ]
    }
   ],
   "source": [
    "lr = LinearRegression().fit(x_train,y_train)\n",
    "\n",
    "y_train_pred = lr.predict(x_train)\n",
    "y_test_pred = lr.predict(x_test)\n",
    "\n",
    "print(\"The R square score of linear regression model is: \", lr.score(x_test,y_test))"
   ]
  },
  {
   "cell_type": "code",
   "execution_count": 51,
   "id": "62c4b688",
   "metadata": {},
   "outputs": [],
   "source": [
    "X_train, X_test, y_train, y_test = train_test_split(x, y, test_size=0.2, random_state=40)\n",
    "#test size of 0.2 is commonly accepted.\n",
    "#random state number was chosen randomly and serves as a constant."
   ]
  },
  {
   "cell_type": "code",
   "execution_count": 52,
   "id": "d44ba677",
   "metadata": {},
   "outputs": [],
   "source": [
    "X_train = sm.add_constant(X_train) # add constant term to model\n",
    "reg = sm.OLS(y_train, X_train)\n",
    "result = reg.fit()"
   ]
  },
  {
   "cell_type": "code",
   "execution_count": 54,
   "id": "f984e321",
   "metadata": {},
   "outputs": [],
   "source": [
    "X_test = sm.add_constant(X_test)\n",
    "y_pred = result.predict(X_test)\n",
    "r_squared = result.rsquared\n",
    "mse = np.mean((y_test - y_pred)**2)\n",
    "mae = np.mean(abs(y_test - y_pred))"
   ]
  },
  {
   "cell_type": "markdown",
   "id": "48d2ad55",
   "metadata": {},
   "source": [
    "# interpret results"
   ]
  },
  {
   "cell_type": "code",
   "execution_count": 57,
   "id": "4604c541",
   "metadata": {},
   "outputs": [
    {
     "name": "stdout",
     "output_type": "stream",
     "text": [
      "                  variable  coefficient   p-value\n",
      "Purchase          Purchase     1.817327  0.636308\n",
      "Duration          Duration     0.029839  0.473183\n",
      "Gender              Gender     2.294973  0.286864\n",
      "ASR_Error        ASR_Error    -1.452559  0.001659\n",
      "Intent_Error  Intent_Error    -1.896366  0.000101\n",
      "Unnamed: 6      Unnamed: 6     0.000000       NaN\n",
      "r-squared: 0.5934753604201755\n",
      "Mean squared error: 108.35216959281408\n",
      "Mean absolute error: 7.705552463424361\n"
     ]
    }
   ],
   "source": [
    "coef_df = pd.DataFrame({\"variable\": x.columns, \"coefficient\":  result.params[1:], \"p-value\": result.pvalues[1:]})\n",
    "print(coef_df)\n",
    "print(\"r-squared:\", r_squared)\n",
    "print(\"Mean squared error:\", mse)\n",
    "print(\"Mean absolute error:\", mae)"
   ]
  },
  {
   "cell_type": "markdown",
   "id": "beee941f",
   "metadata": {},
   "source": [
    "# 1.What features are significant? What features are insignificant?"
   ]
  },
  {
   "cell_type": "markdown",
   "id": "80aa1a46",
   "metadata": {},
   "source": [
    "In the table of coefficients and p-values, the significant features are those with p-values less than the significance level (often set at 0.05). In this case, ASR_Error and Intent_Error have p-values of 0.001659 and 0.000101 respectively, indicating they are significant.\n",
    "\n",
    "The features Purchase, Duration, and Gender have p-values greater than the significance level, indicating that they are not significant."
   ]
  },
  {
   "cell_type": "markdown",
   "id": "caa3fd50",
   "metadata": {},
   "source": [
    "# 2.Were the results what you expected? Explain why or why not, for each feature."
   ]
  },
  {
   "cell_type": "markdown",
   "id": "cffa8856",
   "metadata": {},
   "source": [
    "I expected lower SUS scores as ASR_Error and Intent Error increased. Based on the coefficient values, we can see that ASR_Error and Intent_Error have a negative relationship with SUS scores, meaning that as the number of ASR errors or intent classification errors increase, SUS scores tend to decrease.\n",
    "\n",
    "I did not know whether Gender would have an impact on the SUS scores, but the results show male users tend to lead to higher SUS scores. The coefficient for the Gender variable in the model indicates that, on average, male users had higher SUS scores than female users, but the p-value for that coefficient suggests that the difference between genders is not statistically significant at the conventional level of significance.\n",
    "\n",
    "I expected longer Duration to lead to higher SUS scores because it could be a sign of a positive interaction with Siri. Duration had a positive relationship with SUS scores, longer interactions with Siri tend to lead to higher SUS scores.\n",
    "\n",
    "I did not expect Purchase to be an indicator of higher SUS scores. Since Purchase had a higher P-Value, this suggests that purchasing a ticket using Siri does not significantly affect the SUS scores."
   ]
  },
  {
   "cell_type": "markdown",
   "id": "e12bed42",
   "metadata": {},
   "source": [
    "# 3.What does the model suggest is the most influential factor on SUS? Explain what tells you this is the most influential factor statistically."
   ]
  },
  {
   "cell_type": "markdown",
   "id": "9ad29258",
   "metadata": {},
   "source": [
    "The model suggests that the most influential factor on SUS is the variable \"Intent_Error\". This can be seen from the coefficient for \"Intent_Error\", which is the largest negative coefficient in the model (-1.896366), meaning that higher values of Intent_Error are associated with lower SUS scores.\n",
    "\n",
    "The p-value for Intent_Error is very small (0.000101), meaning that this relationship is statistically significant."
   ]
  },
  {
   "cell_type": "markdown",
   "id": "4e708b31",
   "metadata": {},
   "source": [
    "# 4.What are the potential reasons for these factor(s) being significant predictors of SUS?"
   ]
  },
  {
   "cell_type": "markdown",
   "id": "002a1432",
   "metadata": {},
   "source": [
    "Based on the coefficients from the results, it appears that errors made by Siri, such as ASR and Intent classification errors, have a negative effect on SUS scores, meaning that higher error rates lead to lower SUS scores. This means that accurate voice recognition and intent classification are essential for users to have a positive experience with Siri when purchasing flight tickets."
   ]
  }
 ],
 "metadata": {
  "kernelspec": {
   "display_name": "Python 3 (ipykernel)",
   "language": "python",
   "name": "python3"
  },
  "language_info": {
   "codemirror_mode": {
    "name": "ipython",
    "version": 3
   },
   "file_extension": ".py",
   "mimetype": "text/x-python",
   "name": "python",
   "nbconvert_exporter": "python",
   "pygments_lexer": "ipython3",
   "version": "3.11.0"
  }
 },
 "nbformat": 4,
 "nbformat_minor": 5
}
